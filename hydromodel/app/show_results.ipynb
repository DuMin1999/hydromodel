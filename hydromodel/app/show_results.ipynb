{
 "cells": [
  {
   "cell_type": "markdown",
   "metadata": {},
   "source": [
    "# 分析结果\n",
    "\n",
    "这是一个用于分析率定模型率定及测试结果的 Jupyter Notebook。它将读取结果文件并打印结果。"
   ]
  },
  {
   "cell_type": "code",
   "execution_count": 12,
   "metadata": {},
   "outputs": [],
   "source": [
    "import os\n",
    "import sys\n",
    "from pathlib import Path\n",
    "\n",
    "sys.path.append(os.path.dirname(Path(os.path.abspath('')).parent))\n",
    "import definitions\n",
    "from hydromodel.utils import hydro_utils"
   ]
  },
  {
   "cell_type": "code",
   "execution_count": 7,
   "metadata": {},
   "outputs": [],
   "source": [
    "model_hyperparam_plan = \"xaj_mz_hyperparam_SCE_UA_rep1000_ngs2000\"\n",
    "model_hyperparam_plan_dir = os.path.join(definitions.ROOT_DIR, \"hydromodel\", \"example\", model_hyperparam_plan)"
   ]
  },
  {
   "cell_type": "code",
   "execution_count": 10,
   "metadata": {},
   "outputs": [
    {
     "data": {
      "text/plain": [
       "['60668', '61561', '63002', '63007', '63486', '92354', '94560']"
      ]
     },
     "execution_count": 10,
     "metadata": {},
     "output_type": "execute_result"
    }
   ],
   "source": [
    "# all basins in the dir\n",
    "basin_list = os.listdir(model_hyperparam_plan_dir)\n",
    "basin_list"
   ]
  },
  {
   "cell_type": "code",
   "execution_count": 25,
   "metadata": {},
   "outputs": [
    {
     "data": {
      "text/plain": [
       "{'Bias': [0.0847872080257298,\n",
       "  0.10176031669214944,\n",
       "  0.033919760577489654,\n",
       "  -0.18211699186316485,\n",
       "  0.009649159157791817,\n",
       "  -0.10021552511521573,\n",
       "  0.1424691091469081],\n",
       " 'RMSE': [0.8395810023206165,\n",
       "  2.0307800423226166,\n",
       "  1.2782677059134793,\n",
       "  1.5306594548731376,\n",
       "  3.3704632699233907,\n",
       "  1.1429365413831494,\n",
       "  1.5708223679263973],\n",
       " 'ubRMSE': [0.835394722475175,\n",
       "  2.028228887044695,\n",
       "  1.2798353084291825,\n",
       "  1.5210704933888588,\n",
       "  3.370451779872153,\n",
       "  1.1385357300895587,\n",
       "  1.5644223770637855],\n",
       " 'Corr': [0.8012357502184966,\n",
       "  0.825368729038505,\n",
       "  0.7277110371126764,\n",
       "  0.5751729499128448,\n",
       "  0.6779785228536228,\n",
       "  0.6736501910091355,\n",
       "  0.6938688079232331],\n",
       " 'R2': [0.5942830352578801,\n",
       "  0.6794134427199494,\n",
       "  0.5261573271733248,\n",
       "  0.31888226262112696,\n",
       "  0.4571672570782648,\n",
       "  0.4425526917127697,\n",
       "  0.4758902713136349],\n",
       " 'NSE': [0.5942830352578801,\n",
       "  0.6794134427199494,\n",
       "  0.5261573271733248,\n",
       "  0.31888226262112696,\n",
       "  0.4571672570782648,\n",
       "  0.4425526917127697,\n",
       "  0.4758902713136349],\n",
       " 'KGE': [0.7922555877443916,\n",
       "  0.7723036937329719,\n",
       "  0.5733451103322886,\n",
       "  0.41756326991915094,\n",
       "  0.5080804029121906,\n",
       "  0.5899347883778228,\n",
       "  0.5807180857964],\n",
       " 'FHV': [-10.097073882781304,\n",
       "  -14.134456111891444,\n",
       "  -31.860286418068334,\n",
       "  -25.057712523765236,\n",
       "  -38.632695285253845,\n",
       "  -21.800913626212918,\n",
       "  -30.397969156762088],\n",
       " 'FLV': [-31.299326594947335,\n",
       "  24.919941318785003,\n",
       "  34.95983955455431,\n",
       "  1278.6618728920002,\n",
       "  286.9252942110033,\n",
       "  28.035359583162904,\n",
       "  4.06764171469378]}"
      ]
     },
     "execution_count": 25,
     "metadata": {},
     "output_type": "execute_result"
    }
   ],
   "source": [
    "count = 0\n",
    "train_metrics = {}\n",
    "test_metrics = {}\n",
    "for basin_id in basin_list:\n",
    "    train_metric_file = os.path.join(model_hyperparam_plan_dir, basin_id, \"train_metrics.json\")\n",
    "    test_metric_file = os.path.join(model_hyperparam_plan_dir, basin_id, \"test_metrics.json\")\n",
    "    train_metric = hydro_utils.unserialize_json(train_metric_file)\n",
    "    test_metric = hydro_utils.unserialize_json(test_metric_file)\n",
    "        \n",
    "    for key, value in train_metric.items():\n",
    "        if count == 0:\n",
    "            train_metrics[key] = value\n",
    "        else:\n",
    "            train_metrics[key] = train_metrics[key] + value\n",
    "    for key, value in test_metric.items():\n",
    "        if count == 0:\n",
    "            test_metrics[key] = value\n",
    "        else:\n",
    "            test_metrics[key] = test_metrics[key] + value\n",
    "    count = count + 1\n",
    "train_metrics"
   ]
  },
  {
   "cell_type": "code",
   "execution_count": 26,
   "metadata": {},
   "outputs": [
    {
     "data": {
      "text/plain": [
       "{'Bias': [-13.507672939870277,\n",
       "  58.953951231340426,\n",
       "  30.830441090870128,\n",
       "  -9.270504341923985,\n",
       "  -6.9716054442724245,\n",
       "  -0.010049264996896354,\n",
       "  1.788939838818065],\n",
       " 'RMSE': [26.899345742690297,\n",
       "  174.5989283204305,\n",
       "  93.00878350757318,\n",
       "  57.23411197230925,\n",
       "  35.202510487282176,\n",
       "  21.80463110879206,\n",
       "  64.01075147183094],\n",
       " 'ubRMSE': [23.26193399385113,\n",
       "  164.34481252797593,\n",
       "  87.7516207195866,\n",
       "  56.478326130518454,\n",
       "  34.50526716512426,\n",
       "  21.804628793051616,\n",
       "  63.985748399480315],\n",
       " 'Corr': [0.768715075595787,\n",
       "  0.7792014839163915,\n",
       "  0.7784036797889057,\n",
       "  0.5242441996414092,\n",
       "  0.8105334640258468,\n",
       "  0.8713517502975824,\n",
       "  0.795648442843488],\n",
       " 'R2': [0.40242353879616144,\n",
       "  0.5445866382325653,\n",
       "  0.30104554664928795,\n",
       "  0.2547832467086175,\n",
       "  0.5982810838385564,\n",
       "  0.7172415606418274,\n",
       "  0.6188713012417637],\n",
       " 'NSE': [0.40242353879616144,\n",
       "  0.5445866382325653,\n",
       "  0.30104554664928795,\n",
       "  0.2547832467086175,\n",
       "  0.5982810838385564,\n",
       "  0.7172415606418274,\n",
       "  0.6188713012417637],\n",
       " 'KGE': [0.6639536400745137,\n",
       "  0.6868781034074058,\n",
       "  0.5895140789442265,\n",
       "  0.3208281253194788,\n",
       "  0.5371167138300161,\n",
       "  0.6424376898791879,\n",
       "  0.6179966642823893],\n",
       " 'FHV': [-31.65640838185438,\n",
       "  -12.905438460285598,\n",
       "  14.405116182523725,\n",
       "  -49.43781453974246,\n",
       "  -43.36976239853128,\n",
       "  -22.814500765002734,\n",
       "  -31.052519051915027],\n",
       " 'FLV': [-60.382308532162284,\n",
       "  30.222332556744146,\n",
       "  2.276614997808861,\n",
       "  208.7520854030183,\n",
       "  151.66799611464342,\n",
       "  40.92069808722697,\n",
       "  6.773933940186951]}"
      ]
     },
     "execution_count": 26,
     "metadata": {},
     "output_type": "execute_result"
    }
   ],
   "source": [
    "test_metrics"
   ]
  }
 ],
 "metadata": {
  "kernelspec": {
   "display_name": "Python 3.9.7 ('xaj')",
   "language": "python",
   "name": "python3"
  },
  "language_info": {
   "codemirror_mode": {
    "name": "ipython",
    "version": 3
   },
   "file_extension": ".py",
   "mimetype": "text/x-python",
   "name": "python",
   "nbconvert_exporter": "python",
   "pygments_lexer": "ipython3",
   "version": "3.9.7"
  },
  "orig_nbformat": 4,
  "vscode": {
   "interpreter": {
    "hash": "5ff2b0240d3185dc85fb5f0a6365eefe977ea7c2afca8c64838dc9fcf4f02a96"
   }
  }
 },
 "nbformat": 4,
 "nbformat_minor": 2
}

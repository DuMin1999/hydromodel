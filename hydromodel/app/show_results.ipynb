{
 "cells": [
  {
   "cell_type": "markdown",
   "metadata": {},
   "source": [
    "# 分析结果\n",
    "\n",
    "这是一个用于分析率定模型率定及测试结果的 Jupyter Notebook。它将读取结果文件并打印结果。"
   ]
  },
  {
   "cell_type": "code",
   "execution_count": 12,
   "metadata": {},
   "outputs": [],
   "source": [
    "import os\n",
    "import sys\n",
    "from pathlib import Path\n",
    "\n",
    "sys.path.append(os.path.dirname(Path(os.path.abspath('')).parent))\n",
    "import definitions\n",
    "from hydromodel.utils import hydro_utils"
   ]
  },
  {
   "cell_type": "code",
   "execution_count": 27,
   "metadata": {},
   "outputs": [],
   "source": [
    "model_hyperparam_plan = \"xaj_mz_hyperparam_SCE_UA_rep1000_ngs1000\"\n",
    "model_hyperparam_plan_dir = os.path.join(definitions.ROOT_DIR, \"hydromodel\", \"example\", model_hyperparam_plan)"
   ]
  },
  {
   "cell_type": "code",
   "execution_count": 28,
   "metadata": {},
   "outputs": [
    {
     "data": {
      "text/plain": [
       "['60668', '61561', '63002', '63007', '63486', '92354', '94560']"
      ]
     },
     "execution_count": 28,
     "metadata": {},
     "output_type": "execute_result"
    }
   ],
   "source": [
    "# all basins in the dir\n",
    "basin_list = os.listdir(model_hyperparam_plan_dir)\n",
    "basin_list"
   ]
  },
  {
   "cell_type": "code",
   "execution_count": 31,
   "metadata": {},
   "outputs": [],
   "source": [
    "count = 0\n",
    "train_metrics = {}\n",
    "test_metrics = {}\n",
    "for basin_id in basin_list:\n",
    "    train_metric_file = os.path.join(model_hyperparam_plan_dir, basin_id, \"train_metrics.json\")\n",
    "    test_metric_file = os.path.join(model_hyperparam_plan_dir, basin_id, \"test_metrics.json\")\n",
    "    train_metric = hydro_utils.unserialize_json(train_metric_file)\n",
    "    test_metric = hydro_utils.unserialize_json(test_metric_file)\n",
    "        \n",
    "    for key, value in train_metric.items():\n",
    "        if count == 0:\n",
    "            train_metrics[key] = value\n",
    "        else:\n",
    "            train_metrics[key] = train_metrics[key] + value\n",
    "    for key, value in test_metric.items():\n",
    "        if count == 0:\n",
    "            test_metrics[key] = value\n",
    "        else:\n",
    "            test_metrics[key] = test_metrics[key] + value\n",
    "    count = count + 1"
   ]
  },
  {
   "cell_type": "code",
   "execution_count": 32,
   "metadata": {},
   "outputs": [
    {
     "data": {
      "text/plain": [
       "[0.5942830352578801,\n",
       " 0.6794134427199494,\n",
       " 0.5261573271733248,\n",
       " 0.31888226262112696,\n",
       " 0.4571672570782648,\n",
       " 0.4425526917127697,\n",
       " 0.4758902713136349]"
      ]
     },
     "execution_count": 32,
     "metadata": {},
     "output_type": "execute_result"
    }
   ],
   "source": [
    "train_metrics[\"NSE\"]"
   ]
  },
  {
   "cell_type": "code",
   "execution_count": 33,
   "metadata": {},
   "outputs": [
    {
     "data": {
      "text/plain": [
       "[0.40242353879616144,\n",
       " 0.5445866382325653,\n",
       " 0.30104554664928795,\n",
       " 0.2547832467086175,\n",
       " 0.5982810838385564,\n",
       " 0.7172415606418274,\n",
       " 0.6188713012417637]"
      ]
     },
     "execution_count": 33,
     "metadata": {},
     "output_type": "execute_result"
    }
   ],
   "source": [
    "test_metrics[\"NSE\"]"
   ]
  },
  {
   "cell_type": "markdown",
   "metadata": {},
   "source": [
    "['60668', '61561', '63002', '63007', '63486', '92354', '94560']"
   ]
  }
 ],
 "metadata": {
  "kernelspec": {
   "display_name": "Python 3.9.7 ('xaj')",
   "language": "python",
   "name": "python3"
  },
  "language_info": {
   "codemirror_mode": {
    "name": "ipython",
    "version": 3
   },
   "file_extension": ".py",
   "mimetype": "text/x-python",
   "name": "python",
   "nbconvert_exporter": "python",
   "pygments_lexer": "ipython3",
   "version": "3.9.7"
  },
  "orig_nbformat": 4,
  "vscode": {
   "interpreter": {
    "hash": "5ff2b0240d3185dc85fb5f0a6365eefe977ea7c2afca8c64838dc9fcf4f02a96"
   }
  }
 },
 "nbformat": 4,
 "nbformat_minor": 2
}

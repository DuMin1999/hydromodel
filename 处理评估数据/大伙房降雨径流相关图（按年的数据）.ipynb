{
 "cells": [
  {
   "cell_type": "markdown",
   "metadata": {},
   "source": [
    "#### 提取跑通的新安江的实测模拟径流结果通过降雨径流相关图分析出预报准确性。"
   ]
  },
  {
   "cell_type": "code",
   "execution_count": null,
   "metadata": {},
   "outputs": [],
   "source": [
    "#提取结果的nc文件，注，路径要全部都是英文\n",
    "\n",
    "import netCDF4 as nc\n",
    "import pandas as pd\n",
    "import numpy as np\n",
    "\n",
    "file_path = r\"C:\\Users\\20676\\Desktop\\songliaoyubao\\dahuofang\\dahuofangshuju\\dahuofangxunlianqi.nc\"\n",
    "data = nc.Dataset(file_path)\n",
    "\n",
    "# 读取变量\n",
    "time = nc.num2date(data.variables['time'][:], data.variables['time'].units)\n",
    "qsim = data.variables['qsim'][:]\n",
    "qobs = data.variables['qobs'][:]\n",
    "prcp = data.variables['prcp'][:]\n",
    "\n",
    "# 将变量转换为pandas DataFrame\n",
    "df = pd.DataFrame({\n",
    "    'time': time,\n",
    "    'qsim': np.squeeze(qsim),\n",
    "    'qobs': np.squeeze(qobs),\n",
    "    'prcp': np.squeeze(prcp),\n",
    "})\n",
    "df.to_csv(r\"C:\\Users\\20676\\Desktop\\songliaoyubao\\dahuofang\\dahuofangshuju\\训练期.csv\", index=False)"
   ]
  },
  {
   "cell_type": "code",
   "execution_count": null,
   "metadata": {},
   "outputs": [],
   "source": [
    "#注，要全部都是英文\n",
    "\n",
    "import netCDF4 as nc\n",
    "import pandas as pd\n",
    "import numpy as np\n",
    "\n",
    "file_path = r\"C:\\Users\\20676\\Desktop\\songliaoyubao\\dahuofang\\dahuofangshuju\\dahuofangyanzhengqi.nc\"\n",
    "data = nc.Dataset(file_path)\n",
    "\n",
    "# 读取变量\n",
    "time = nc.num2date(data.variables['time'][:], data.variables['time'].units)\n",
    "qsim = data.variables['qsim'][:]\n",
    "qobs = data.variables['qobs'][:]\n",
    "prcp = data.variables['prcp'][:]\n",
    "\n",
    "# 将变量转换为pandas DataFrame\n",
    "df = pd.DataFrame({\n",
    "    'time': time,\n",
    "    'qsim': np.squeeze(qsim),\n",
    "    'qobs': np.squeeze(qobs),\n",
    "    'prcp': np.squeeze(prcp),\n",
    "})\n",
    "df.to_csv(r\"C:\\Users\\20676\\Desktop\\songliaoyubao\\dahuofang\\dahuofangshuju\\验证期.csv\", index=False)"
   ]
  },
  {
   "cell_type": "code",
   "execution_count": 2,
   "metadata": {},
   "outputs": [
    {
     "name": "stderr",
     "output_type": "stream",
     "text": [
      "C:\\Users\\20676\\AppData\\Local\\Temp\\ipykernel_8076\\563598501.py:21: FutureWarning: 'M' is deprecated and will be removed in a future version, please use 'ME' instead.\n",
      "  resampled = df.resample('2M')\n",
      "C:\\Users\\20676\\AppData\\Local\\Temp\\ipykernel_8076\\563598501.py:21: FutureWarning: 'M' is deprecated and will be removed in a future version, please use 'ME' instead.\n",
      "  resampled = df.resample('2M')\n",
      "c:\\Users\\20676\\.conda\\envs\\hydromodel\\lib\\site-packages\\hydroutils\\hydro_plot.py:1344: UserWarning: Attempting to set identical low and high ylims makes transformation singular; automatically expanding.\n",
      "  ax2.set_ylim(-max_pre * 5, 0)\n"
     ]
    }
   ],
   "source": [
    "import os\n",
    "import pandas as pd\n",
    "import matplotlib.pyplot as plt\n",
    "from hydroutils.hydro_plot import plot_rainfall_runoff\n",
    "#文件夹大伙房场次数据里面是训练期.csv，验证期.csv俩表格。\n",
    "# 文件夹路径\n",
    "folder_path = r\"C:\\Users\\20676\\Desktop\\降雨径流相关图\\大伙房\\大伙房场次数据\"\n",
    "savey_path = r\"C:\\Users\\20676\\Desktop\\降雨径流相关图\\大伙房\\大伙房场次数据\"\n",
    "# 获取文件夹中的所有文件\n",
    "file_names = os.listdir(folder_path)\n",
    "\n",
    "# 处理每个文件\n",
    "for file_name in file_names:\n",
    "    # 读取数据，调整日期格式\n",
    "    file_path = os.path.join(folder_path, file_name)\n",
    "    df = pd.read_csv(file_path)\n",
    "    df['time'] = pd.to_datetime(df['time'], dayfirst=False)  # 修改这里\n",
    "    df.set_index('time', inplace=True)\n",
    "\n",
    "    # 按每两个月进行重采样\n",
    "    resampled = df.resample('2M')\n",
    "\n",
    "    # 在每两个月的时间段内绘制图表\n",
    "    for name, group in resampled:\n",
    "        rainfall = group['prcp']\n",
    "        qsim = group['qsim']\n",
    "        qobs = group['qobs']\n",
    "\n",
    "        # 调用绘图函数\n",
    "        plot_rainfall_runoff(\n",
    "            t=[qsim.index, qobs.index],\n",
    "            p=rainfall,\n",
    "            qs=[qsim, qobs],\n",
    "            title=\"Rainfall-Runoff Relationship\",\n",
    "            xlabel=\"Date\",\n",
    "            ylabel=\"Runoff (m³/s)\",\n",
    "            fig_size=(12, 6),\n",
    "            leg_lst=[\"Simulated Runoff\", \"Observed Runoff\"]\n",
    "        )\n",
    "\n",
    "        # 保存图表\n",
    "        save_path = os.path.join(savey_path, f\"{file_name}_{name.strftime('%Y-%m')}.png\")\n",
    "        plt.savefig(save_path, dpi=300)\n",
    "        plt.close()  # 关闭图表，以便开始下一个图表"
   ]
  },
  {
   "cell_type": "code",
   "execution_count": null,
   "metadata": {},
   "outputs": [],
   "source": []
  }
 ],
 "metadata": {
  "kernelspec": {
   "display_name": "hydromodel",
   "language": "python",
   "name": "python3"
  },
  "language_info": {
   "codemirror_mode": {
    "name": "ipython",
    "version": 3
   },
   "file_extension": ".py",
   "mimetype": "text/x-python",
   "name": "python",
   "nbconvert_exporter": "python",
   "pygments_lexer": "ipython3",
   "version": "3.10.14"
  }
 },
 "nbformat": 4,
 "nbformat_minor": 2
}

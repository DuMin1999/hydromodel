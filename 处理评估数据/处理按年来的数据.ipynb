{
 "cells": [
  {
   "cell_type": "markdown",
   "metadata": {},
   "source": [
    "#### 对于下载的数据，由于松辽系统年份设置太多会下载不了，所以下载以后的命名采用以下办法：命名格式为年份+入流（雨量），比如2010-入流就是2010年的实测入流数据。  本文件为提取5.1-9.30的降雨和提取6.1-9.30的径流，其中降雨多一个月是作为预热期。筛选出数据的为xlsx格式且没有年份且是倒着的。将雨量和实测入流-据转换为逐小时的，雨量数据的空缺值填充为0，实测入流数据线性插值，然后分别拼接，填充蒸发。然后重设时间，从2010.1.1.00：00开始。期间产生的一个只有雨量数据的文件将会在处理划分场次洪水数据中用到。"
   ]
  },
  {
   "cell_type": "markdown",
   "metadata": {},
   "source": [
    "把原数据顺序反转，并且改为csv表格"
   ]
  },
  {
   "cell_type": "code",
   "execution_count": 3,
   "metadata": {},
   "outputs": [],
   "source": [
    "import pandas as pd\n",
    "import os\n",
    "\n",
    "# 指定目录\n",
    "dir_path = r'C:\\Users\\20676\\Desktop\\大伙房水库\\表格'\n",
    "\n",
    "# 获取目录下的所有Excel文件\n",
    "excel_files = [f for f in os.listdir(dir_path) if f.endswith('.xlsx') or f.endswith('.xls')]\n",
    "\n",
    "for file_name in excel_files:\n",
    "    # 读取Excel文件\n",
    "    df = pd.read_excel(os.path.join(dir_path, file_name))\n",
    "    \n",
    "    # 反转表格的行\n",
    "    df = df.iloc[::-1]\n",
    "    \n",
    "    # 删除原Excel文件\n",
    "    os.remove(os.path.join(dir_path, file_name))\n",
    "    \n",
    "    # 保存为CSV文件，文件名与原Excel文件相同\n",
    "    new_file_name = os.path.splitext(file_name)[0] + '.csv'\n",
    "    df.to_csv(os.path.join(dir_path, new_file_name), index=False)"
   ]
  },
  {
   "cell_type": "markdown",
   "metadata": {},
   "source": [
    "添加年份"
   ]
  },
  {
   "cell_type": "code",
   "execution_count": 4,
   "metadata": {},
   "outputs": [],
   "source": [
    "import pandas as pd\n",
    "import os\n",
    "\n",
    "# 指定目录\n",
    "dir_path = r'C:\\Users\\20676\\Desktop\\大伙房水库\\表格'\n",
    "\n",
    "# 获取目录下的所有CSV文件\n",
    "csv_files = [f for f in os.listdir(dir_path) if f.endswith('.csv')]\n",
    "\n",
    "for file_name in csv_files:\n",
    "    # 读取CSV文件\n",
    "    df = pd.read_csv(os.path.join(dir_path, file_name))\n",
    "    \n",
    "    # 获取文件名的前四个字符作为年份\n",
    "    year = file_name[:4]\n",
    "    \n",
    "    # 将年份添加到时间列的每个值前面\n",
    "    df['时间'] = year + '-' + df['时间']\n",
    "    \n",
    "    # 保存修改后的CSV文件\n",
    "    df.to_csv(os.path.join(dir_path, file_name), index=False)"
   ]
  },
  {
   "cell_type": "code",
   "execution_count": 5,
   "metadata": {},
   "outputs": [],
   "source": [
    "import pandas as pd\n",
    "import os\n",
    "\n",
    "# 获取文件夹中的所有文件名\n",
    "folder_path =  r'C:\\Users\\20676\\Desktop\\大伙房水库\\表格'\n",
    "files = os.listdir(folder_path)\n",
    "\n",
    "for file in files:\n",
    "    # 检查文件名是否以\"入流\"或\"雨量\"结尾\n",
    "    if file.endswith('入流.csv'):\n",
    "        # 读取文件\n",
    "        df = pd.read_csv(os.path.join(folder_path, file))\n",
    "        # 保留时间列和实测入流列\n",
    "        df = df[['时间', '实测入流']]\n",
    "        # 删除实测入流列中的负值\n",
    "        df = df[df['实测入流'] >= 0]\n",
    "        # 将修改后的数据写回文件\n",
    "        df.to_csv(os.path.join(folder_path, file), index=False)\n",
    "    elif file.endswith('雨量.csv'):\n",
    "        # 读取文件\n",
    "        df = pd.read_csv(os.path.join(folder_path, file))\n",
    "        # 保留时间列和面雨量列\n",
    "        df = df[['时间', '面雨量']]\n",
    "        # 将修改后的数据写回文件\n",
    "        df.to_csv(os.path.join(folder_path, file), index=False)"
   ]
  },
  {
   "cell_type": "code",
   "execution_count": 8,
   "metadata": {},
   "outputs": [
    {
     "name": "stderr",
     "output_type": "stream",
     "text": [
      "C:\\Users\\20676\\AppData\\Local\\Temp\\ipykernel_24952\\758743190.py:17: FutureWarning: 'H' is deprecated and will be removed in a future version, please use 'h' instead.\n",
      "  df = df.resample('H').sum()\n",
      "C:\\Users\\20676\\AppData\\Local\\Temp\\ipykernel_24952\\758743190.py:17: FutureWarning: 'H' is deprecated and will be removed in a future version, please use 'h' instead.\n",
      "  df = df.resample('H').sum()\n",
      "C:\\Users\\20676\\AppData\\Local\\Temp\\ipykernel_24952\\758743190.py:17: FutureWarning: 'H' is deprecated and will be removed in a future version, please use 'h' instead.\n",
      "  df = df.resample('H').sum()\n",
      "C:\\Users\\20676\\AppData\\Local\\Temp\\ipykernel_24952\\758743190.py:17: FutureWarning: 'H' is deprecated and will be removed in a future version, please use 'h' instead.\n",
      "  df = df.resample('H').sum()\n",
      "C:\\Users\\20676\\AppData\\Local\\Temp\\ipykernel_24952\\758743190.py:17: FutureWarning: 'H' is deprecated and will be removed in a future version, please use 'h' instead.\n",
      "  df = df.resample('H').sum()\n",
      "C:\\Users\\20676\\AppData\\Local\\Temp\\ipykernel_24952\\758743190.py:17: FutureWarning: 'H' is deprecated and will be removed in a future version, please use 'h' instead.\n",
      "  df = df.resample('H').sum()\n",
      "C:\\Users\\20676\\AppData\\Local\\Temp\\ipykernel_24952\\758743190.py:17: FutureWarning: 'H' is deprecated and will be removed in a future version, please use 'h' instead.\n",
      "  df = df.resample('H').sum()\n",
      "C:\\Users\\20676\\AppData\\Local\\Temp\\ipykernel_24952\\758743190.py:17: FutureWarning: 'H' is deprecated and will be removed in a future version, please use 'h' instead.\n",
      "  df = df.resample('H').sum()\n",
      "C:\\Users\\20676\\AppData\\Local\\Temp\\ipykernel_24952\\758743190.py:17: FutureWarning: 'H' is deprecated and will be removed in a future version, please use 'h' instead.\n",
      "  df = df.resample('H').sum()\n",
      "C:\\Users\\20676\\AppData\\Local\\Temp\\ipykernel_24952\\758743190.py:17: FutureWarning: 'H' is deprecated and will be removed in a future version, please use 'h' instead.\n",
      "  df = df.resample('H').sum()\n",
      "C:\\Users\\20676\\AppData\\Local\\Temp\\ipykernel_24952\\758743190.py:17: FutureWarning: 'H' is deprecated and will be removed in a future version, please use 'h' instead.\n",
      "  df = df.resample('H').sum()\n",
      "C:\\Users\\20676\\AppData\\Local\\Temp\\ipykernel_24952\\758743190.py:17: FutureWarning: 'H' is deprecated and will be removed in a future version, please use 'h' instead.\n",
      "  df = df.resample('H').sum()\n",
      "C:\\Users\\20676\\AppData\\Local\\Temp\\ipykernel_24952\\758743190.py:17: FutureWarning: 'H' is deprecated and will be removed in a future version, please use 'h' instead.\n",
      "  df = df.resample('H').sum()\n",
      "C:\\Users\\20676\\AppData\\Local\\Temp\\ipykernel_24952\\758743190.py:17: FutureWarning: 'H' is deprecated and will be removed in a future version, please use 'h' instead.\n",
      "  df = df.resample('H').sum()\n"
     ]
    }
   ],
   "source": [
    "import pandas as pd\n",
    "import os\n",
    "\n",
    "# 获取文件夹中的所有文件名\n",
    "folder_path = r'C:\\Users\\20676\\Desktop\\大伙房水库\\表格'\n",
    "files = os.listdir(folder_path)\n",
    "\n",
    "for file in files:\n",
    "    # 检查文件名是否以\"雨量\"结尾\n",
    "    if file.endswith('雨量.csv'):\n",
    "        # 读取文件\n",
    "        df = pd.read_csv(os.path.join(folder_path, file))\n",
    "        # 将时间列转换为pandas的DateTime类型，并设置为索引\n",
    "        df['时间'] = pd.to_datetime(df['时间'])\n",
    "        df = df.set_index('时间')\n",
    "        # 使用pandas的resample方法将数据重新采样为逐小时的\n",
    "        df = df.resample('H').sum()\n",
    "        # 使用fillna方法使用0填充面雨量列的缺失值\n",
    "        df['面雨量'] = df['面雨量'].fillna(0)\n",
    "        # 将修改后的数据写回文件\n",
    "        df.to_csv(os.path.join(folder_path, file))"
   ]
  },
  {
   "cell_type": "code",
   "execution_count": 9,
   "metadata": {},
   "outputs": [
    {
     "name": "stderr",
     "output_type": "stream",
     "text": [
      "C:\\Users\\20676\\AppData\\Local\\Temp\\ipykernel_24952\\2405013179.py:24: FutureWarning: 'H' is deprecated and will be removed in a future version, please use 'h' instead.\n",
      "  df_resampled = df.resample('H').interpolate(method='linear')\n",
      "C:\\Users\\20676\\AppData\\Local\\Temp\\ipykernel_24952\\2405013179.py:24: FutureWarning: 'H' is deprecated and will be removed in a future version, please use 'h' instead.\n",
      "  df_resampled = df.resample('H').interpolate(method='linear')\n",
      "C:\\Users\\20676\\AppData\\Local\\Temp\\ipykernel_24952\\2405013179.py:24: FutureWarning: 'H' is deprecated and will be removed in a future version, please use 'h' instead.\n",
      "  df_resampled = df.resample('H').interpolate(method='linear')\n",
      "C:\\Users\\20676\\AppData\\Local\\Temp\\ipykernel_24952\\2405013179.py:24: FutureWarning: 'H' is deprecated and will be removed in a future version, please use 'h' instead.\n",
      "  df_resampled = df.resample('H').interpolate(method='linear')\n",
      "C:\\Users\\20676\\AppData\\Local\\Temp\\ipykernel_24952\\2405013179.py:24: FutureWarning: 'H' is deprecated and will be removed in a future version, please use 'h' instead.\n",
      "  df_resampled = df.resample('H').interpolate(method='linear')\n",
      "C:\\Users\\20676\\AppData\\Local\\Temp\\ipykernel_24952\\2405013179.py:24: FutureWarning: 'H' is deprecated and will be removed in a future version, please use 'h' instead.\n",
      "  df_resampled = df.resample('H').interpolate(method='linear')\n",
      "C:\\Users\\20676\\AppData\\Local\\Temp\\ipykernel_24952\\2405013179.py:24: FutureWarning: 'H' is deprecated and will be removed in a future version, please use 'h' instead.\n",
      "  df_resampled = df.resample('H').interpolate(method='linear')\n",
      "C:\\Users\\20676\\AppData\\Local\\Temp\\ipykernel_24952\\2405013179.py:24: FutureWarning: 'H' is deprecated and will be removed in a future version, please use 'h' instead.\n",
      "  df_resampled = df.resample('H').interpolate(method='linear')\n",
      "C:\\Users\\20676\\AppData\\Local\\Temp\\ipykernel_24952\\2405013179.py:24: FutureWarning: 'H' is deprecated and will be removed in a future version, please use 'h' instead.\n",
      "  df_resampled = df.resample('H').interpolate(method='linear')\n",
      "C:\\Users\\20676\\AppData\\Local\\Temp\\ipykernel_24952\\2405013179.py:24: FutureWarning: 'H' is deprecated and will be removed in a future version, please use 'h' instead.\n",
      "  df_resampled = df.resample('H').interpolate(method='linear')\n",
      "C:\\Users\\20676\\AppData\\Local\\Temp\\ipykernel_24952\\2405013179.py:24: FutureWarning: 'H' is deprecated and will be removed in a future version, please use 'h' instead.\n",
      "  df_resampled = df.resample('H').interpolate(method='linear')\n",
      "C:\\Users\\20676\\AppData\\Local\\Temp\\ipykernel_24952\\2405013179.py:24: FutureWarning: 'H' is deprecated and will be removed in a future version, please use 'h' instead.\n",
      "  df_resampled = df.resample('H').interpolate(method='linear')\n",
      "C:\\Users\\20676\\AppData\\Local\\Temp\\ipykernel_24952\\2405013179.py:24: FutureWarning: 'H' is deprecated and will be removed in a future version, please use 'h' instead.\n",
      "  df_resampled = df.resample('H').interpolate(method='linear')\n",
      "C:\\Users\\20676\\AppData\\Local\\Temp\\ipykernel_24952\\2405013179.py:24: FutureWarning: 'H' is deprecated and will be removed in a future version, please use 'h' instead.\n",
      "  df_resampled = df.resample('H').interpolate(method='linear')\n"
     ]
    }
   ],
   "source": [
    "import pandas as pd\n",
    "import os\n",
    "\n",
    "# 获取文件夹下所有以入流为结尾的csv文件\n",
    "folder_path = r'C:\\Users\\20676\\Desktop\\大伙房水库\\表格'\n",
    "csv_files = [f for f in os.listdir(folder_path) if f.endswith('入流.csv')]\n",
    "\n",
    "for file in csv_files:\n",
    "    file_path = os.path.join(folder_path, file)\n",
    "    \n",
    "    # 读取csv文件\n",
    "    df = pd.read_csv(file_path)\n",
    "    \n",
    "    # 将时间列转换为datetime对象\n",
    "    df['时间'] = pd.to_datetime(df['时间'])\n",
    "    \n",
    "    # 计算重复时间戳的实测入流的平均值\n",
    "    df = df.groupby('时间').mean().reset_index()\n",
    "    \n",
    "    # 设置时间列为索引\n",
    "    df = df.set_index('时间')\n",
    "    \n",
    "    # 重新采样为每小时一个数据点，并对缺失值进行线性插值\n",
    "    df_resampled = df.resample('H').interpolate(method='linear')\n",
    "    \n",
    "    # 将结果保留两位小数\n",
    "    df_resampled = df_resampled.round(2)\n",
    "    \n",
    "    # 将处理后的数据保存回csv文件\n",
    "    df_resampled.to_csv(file_path)"
   ]
  },
  {
   "cell_type": "markdown",
   "metadata": {},
   "source": [
    "合并雨量和入流的文件"
   ]
  },
  {
   "cell_type": "code",
   "execution_count": 12,
   "metadata": {},
   "outputs": [],
   "source": [
    "import pandas as pd\n",
    "import os\n",
    "\n",
    "# 设置文件夹路径\n",
    "folder_path = 'C:\\\\Users\\\\20676\\\\Desktop\\\\大伙房水库\\\\表格'\n",
    "\n",
    "# 获取所有以\"雨量\"和\"入流\"结尾的文件\n",
    "rainfall_files = [f for f in os.listdir(folder_path) if f.endswith('雨量.csv')]\n",
    "inflow_files = [f for f in os.listdir(folder_path) if f.endswith('入流.csv')]\n",
    "\n",
    "# 读取并合并\"雨量\"文件\n",
    "rainfall_dfs = []\n",
    "for file in rainfall_files:\n",
    "    df = pd.read_csv(os.path.join(folder_path, file))\n",
    "    df['时间'] = pd.to_datetime(df['时间'])\n",
    "    df = df.set_index('时间')\n",
    "    rainfall_dfs.append(df)\n",
    "merged_rainfall_df = pd.concat(rainfall_dfs).sort_index()\n",
    "\n",
    "# 读取并合并\"入流\"文件\n",
    "inflow_dfs = []\n",
    "for file in inflow_files:\n",
    "    df = pd.read_csv(os.path.join(folder_path, file))\n",
    "    df['时间'] = pd.to_datetime(df['时间'])\n",
    "    df = df.set_index('时间')\n",
    "    inflow_dfs.append(df)\n",
    "merged_inflow_df = pd.concat(inflow_dfs).sort_index()\n",
    "\n",
    "# 将合并后的数据保存为新的文件\n",
    "merged_rainfall_df.to_csv(os.path.join(folder_path, '逐小时雨量.csv'))\n",
    "merged_inflow_df.to_csv(os.path.join(folder_path, '逐小时入流.csv'))"
   ]
  },
  {
   "cell_type": "markdown",
   "metadata": {},
   "source": [
    "入流的文件线性插值，雨量的文件填充0"
   ]
  },
  {
   "cell_type": "code",
   "execution_count": 14,
   "metadata": {},
   "outputs": [
    {
     "name": "stderr",
     "output_type": "stream",
     "text": [
      "C:\\Users\\20676\\AppData\\Local\\Temp\\ipykernel_24952\\275886043.py:11: FutureWarning: 'H' is deprecated and will be removed in a future version, please use 'h' instead.\n",
      "  inflow_df = inflow_df.resample('H').interpolate(method='linear').round(2)\n",
      "C:\\Users\\20676\\AppData\\Local\\Temp\\ipykernel_24952\\275886043.py:18: FutureWarning: 'H' is deprecated and will be removed in a future version, please use 'h' instead.\n",
      "  rainfall_df = rainfall_df.resample('H').asfreq().fillna(0)\n"
     ]
    }
   ],
   "source": [
    "import pandas as pd\n",
    "import os\n",
    "\n",
    "# 设置文件夹路径\n",
    "folder_path = 'C:\\\\Users\\\\20676\\\\Desktop\\\\大伙房水库\\\\表格'\n",
    "\n",
    "# 读取并处理\"逐小时入流\"表格\n",
    "inflow_df = pd.read_csv(os.path.join(folder_path, '逐小时入流.csv'))\n",
    "inflow_df['时间'] = pd.to_datetime(inflow_df['时间'])\n",
    "inflow_df = inflow_df.set_index('时间')\n",
    "inflow_df = inflow_df.resample('H').interpolate(method='linear').round(2)\n",
    "inflow_df.to_csv(os.path.join(folder_path, '逐小时入流.csv'))\n",
    "\n",
    "# 读取并处理\"逐小时雨量\"表格\n",
    "rainfall_df = pd.read_csv(os.path.join(folder_path, '逐小时雨量.csv'))\n",
    "rainfall_df['时间'] = pd.to_datetime(rainfall_df['时间'])\n",
    "rainfall_df = rainfall_df.set_index('时间')\n",
    "rainfall_df = rainfall_df.resample('H').asfreq().fillna(0)\n",
    "rainfall_df.to_csv(os.path.join(folder_path, '逐小时雨量.csv'))"
   ]
  },
  {
   "cell_type": "markdown",
   "metadata": {},
   "source": [
    "合并表格"
   ]
  },
  {
   "cell_type": "code",
   "execution_count": 15,
   "metadata": {},
   "outputs": [],
   "source": [
    "import pandas as pd\n",
    "import os\n",
    "\n",
    "# 设置文件夹路径\n",
    "folder_path = 'C:\\\\Users\\\\20676\\\\Desktop\\\\大伙房水库\\\\表格'\n",
    "\n",
    "# 读取\"逐小时入流\"表格\n",
    "inflow_df = pd.read_csv(os.path.join(folder_path, '逐小时入流.csv'))\n",
    "inflow_df['时间'] = pd.to_datetime(inflow_df['时间'])\n",
    "inflow_df = inflow_df.set_index('时间')\n",
    "\n",
    "# 读取\"逐小时雨量\"表格\n",
    "rainfall_df = pd.read_csv(os.path.join(folder_path, '逐小时雨量.csv'))\n",
    "rainfall_df['时间'] = pd.to_datetime(rainfall_df['时间'])\n",
    "rainfall_df = rainfall_df.set_index('时间')\n",
    "\n",
    "# 根据时间列合并这两个表格\n",
    "merged_df = pd.merge(inflow_df, rainfall_df, left_index=True, right_index=True)\n",
    "merged_df.to_csv(os.path.join(folder_path, '逐小时入流和雨量.csv'))"
   ]
  },
  {
   "cell_type": "code",
   "execution_count": 16,
   "metadata": {},
   "outputs": [],
   "source": [
    "import pandas as pd\n",
    "import os\n",
    "\n",
    "# 设置文件夹路径\n",
    "folder_path = 'C:\\\\Users\\\\20676\\\\Desktop\\\\大伙房水库\\\\表格'\n",
    "\n",
    "# 读取\"逐小时入流和雨量\"表格\n",
    "merged_df = pd.read_csv(os.path.join(folder_path, '逐小时入流和雨量.csv'))\n",
    "merged_df['时间'] = pd.to_datetime(merged_df['时间'])\n",
    "merged_df = merged_df.set_index('时间')\n",
    "\n",
    "# 创建一个布尔掩码，选择所有年份的五月一日到九月三十日的数据\n",
    "mask = (merged_df.index.month >= 5) & (merged_df.index.month <= 9)\n",
    "selected_df = merged_df.loc[mask]\n",
    "\n",
    "selected_df.to_csv(os.path.join(folder_path, '逐小时入流和雨量_五月一日到九月三十日.csv'))"
   ]
  },
  {
   "cell_type": "code",
   "execution_count": 17,
   "metadata": {},
   "outputs": [],
   "source": [
    "import pandas as pd\n",
    "import os\n",
    "import numpy as np\n",
    "\n",
    "# 设置文件夹路径\n",
    "folder_path = 'C:\\\\Users\\\\20676\\\\Desktop\\\\大伙房水库\\\\表格'\n",
    "\n",
    "# 读取\"逐小时入流和雨量_五月一日到九月三十日\"表格\n",
    "selected_df = pd.read_csv(os.path.join(folder_path, '逐小时入流和雨量_五月一日到九月三十日.csv'))\n",
    "selected_df['时间'] = pd.to_datetime(selected_df['时间'])\n",
    "selected_df = selected_df.set_index('时间')\n",
    "\n",
    "# 删除全部年份的五月一日到五月三十一日的\"实测入流\"列的值，并填充为空\n",
    "mask = (selected_df.index.month == 5) & (selected_df.index.day <= 31)\n",
    "selected_df.loc[mask, '实测入流'] = np.nan\n",
    "\n",
    "selected_df.to_csv(os.path.join(folder_path, '逐小时入流和雨量_五月一日到九月三十日.csv'))"
   ]
  },
  {
   "cell_type": "code",
   "execution_count": 18,
   "metadata": {},
   "outputs": [],
   "source": [
    "#增加潜在蒸发列\n",
    "import pandas as pd\n",
    "\n",
    "# 读取CSV文件\n",
    "df = pd.read_csv(f'{folder_path}\\\\逐小时入流和雨量_五月一日到九月三十日.csv')\n",
    "\n",
    "# 将时间列转换为日期时间格式\n",
    "df['时间'] = pd.to_datetime(df['时间'])\n",
    "\n",
    "# 根据时间列的月份创建新的列\n",
    "def calculate_pet(row):\n",
    "    month = row['时间'].month\n",
    "    if month == 5:\n",
    "        return 99.3 / 31 / 24\n",
    "    elif month == 6:\n",
    "        return 102.2 / 30 / 24\n",
    "    elif month == 7:\n",
    "        return 100.3 / 31 / 24\n",
    "    elif month == 8:\n",
    "        return  92.2/ 31 / 24\n",
    "    elif month == 9:\n",
    "        return 72.4 / 30 / 24\n",
    "    else:\n",
    "        return 0\n",
    "\n",
    "df['pet(mm/hour)'] = df.apply(calculate_pet, axis=1)\n",
    "\n",
    "# 将新列的值四舍五入到两位小数\n",
    "df['pet(mm/hour)'] = df['pet(mm/hour)'].round(3)\n",
    "\n",
    "# 将新的DataFrame写入CSV文件\n",
    "df.to_csv(f'{folder_path}\\\\逐小时入流雨量潜在蒸发.csv', index=False)"
   ]
  },
  {
   "cell_type": "code",
   "execution_count": 19,
   "metadata": {},
   "outputs": [
    {
     "name": "stderr",
     "output_type": "stream",
     "text": [
      "C:\\Users\\20676\\AppData\\Local\\Temp\\ipykernel_24952\\2675656083.py:5: FutureWarning: 'H' is deprecated and will be removed in a future version, please use 'h' instead.\n",
      "  df['时间'] = pd.date_range(start='2010-01-01', periods=len(df), freq='H')\n"
     ]
    }
   ],
   "source": [
    "# 读取CSV文件\n",
    "df = pd.read_csv(f'{folder_path}\\\\逐小时入流雨量潜在蒸发.csv')\n",
    "\n",
    "# 创建新的时间列，从2010年1月1日0时起，逐行增加一个小时\n",
    "df['时间'] = pd.date_range(start='2010-01-01', periods=len(df), freq='H')\n",
    "\n",
    "# 修改列名\n",
    "df = df.rename(columns={'时间': 'time', '面雨量': 'prcp(mm/hour)', '实测入流': 'flow(m^3/s)'})\n",
    "\n",
    "# 将新的DataFrame写入CSV文件\n",
    "df.to_csv(f'{folder_path}\\\\大伙房.csv', index=False)"
   ]
  },
  {
   "cell_type": "code",
   "execution_count": null,
   "metadata": {},
   "outputs": [],
   "source": []
  }
 ],
 "metadata": {
  "kernelspec": {
   "display_name": "hydromodel",
   "language": "python",
   "name": "python3"
  },
  "language_info": {
   "codemirror_mode": {
    "name": "ipython",
    "version": 3
   },
   "file_extension": ".py",
   "mimetype": "text/x-python",
   "name": "python",
   "nbconvert_exporter": "python",
   "pygments_lexer": "ipython3",
   "version": "3.10.14"
  }
 },
 "nbformat": 4,
 "nbformat_minor": 2
}

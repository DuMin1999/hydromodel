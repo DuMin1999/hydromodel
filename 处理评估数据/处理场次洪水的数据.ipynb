{
 "cells": [
  {
   "cell_type": "markdown",
   "metadata": {},
   "source": [
    "文件转换为csv格式"
   ]
  },
  {
   "cell_type": "code",
   "execution_count": 1,
   "metadata": {},
   "outputs": [],
   "source": [
    "import os\n",
    "import pandas as pd\n",
    "\n",
    "# 获取文件夹中的所有文件\n",
    "folder_path = r'C:\\Users\\20676\\Desktop\\大伙房场次洪水\\大伙房水库'\n",
    "files = os.listdir(folder_path)\n",
    "\n",
    "# 对于每个文件\n",
    "for file in files:\n",
    "    # 检查是否为xlsx文件\n",
    "    if file.endswith('.xlsx'):\n",
    "        # 读取Excel文件\n",
    "        df = pd.read_excel(os.path.join(folder_path, file))\n",
    "        # 将数据保存为CSV文件，文件名与原文件相同，但扩展名为.csv\n",
    "        df.to_csv(os.path.join(folder_path, file[:-5] + '.csv'), index=False)\n",
    "        # 删除原来的Excel文件\n",
    "        os.remove(os.path.join(folder_path, file))"
   ]
  },
  {
   "cell_type": "markdown",
   "metadata": {},
   "source": [
    "只保留实测入流列和预报总入流列（预报总入流列将会在绘图的时候用到）"
   ]
  },
  {
   "cell_type": "code",
   "execution_count": 2,
   "metadata": {},
   "outputs": [],
   "source": [
    "import os\n",
    "import pandas as pd\n",
    "\n",
    "# 获取文件夹中的所有文件\n",
    "folder_path = r'C:\\Users\\20676\\Desktop\\大伙房场次洪水\\大伙房水库'\n",
    "files = os.listdir(folder_path)\n",
    "\n",
    "# 对于每个文件\n",
    "for file in files:\n",
    "    # 检查是否为csv文件\n",
    "    if file.endswith('.csv'):\n",
    "        # 读取CSV文件\n",
    "        df = pd.read_csv(os.path.join(folder_path, file))\n",
    "        # 提取文件名中的年份\n",
    "        year = file[-12:-8]\n",
    "        # 添加年份到时间列\n",
    "        df['时间'] = year + '-' + df['时间']\n",
    "        # 只保留时间列和实测入流列\n",
    "        df = df[['时间', '实测入流','预报总入流']]\n",
    "        # 保存回CSV文件\n",
    "        df.to_csv(os.path.join(folder_path, file), index=False)"
   ]
  },
  {
   "cell_type": "markdown",
   "metadata": {},
   "source": [
    "只保留实测入流列"
   ]
  },
  {
   "cell_type": "code",
   "execution_count": null,
   "metadata": {},
   "outputs": [],
   "source": [
    "import os\n",
    "import pandas as pd\n",
    "\n",
    "# 指定的文件夹路径\n",
    "folder_path = r'C:\\Users\\20676\\Desktop\\大伙房场次洪水\\大伙房水库'\n",
    "save_folder_path = r'C:\\Users\\20676\\Desktop\\大伙房场次洪水\\测试'\n",
    "\n",
    "# 列出文件夹中的所有文件\n",
    "files = os.listdir(folder_path)\n",
    "\n",
    "# 遍历所有文件\n",
    "for file in files:\n",
    "    # 检查文件是否为csv文件\n",
    "    if file.endswith('.csv'):\n",
    "        # 读取csv文件\n",
    "        df = pd.read_csv(os.path.join(folder_path, file))\n",
    "        # 选择时间列和实测入流列\n",
    "        df = df[['时间', '实测入流']]\n",
    "        # 保存新的DataFrame到指定的文件夹中\n",
    "        df.to_csv(os.path.join(save_folder_path, file), index=False)"
   ]
  },
  {
   "cell_type": "markdown",
   "metadata": {},
   "source": [
    "输出重采样并且线性插值"
   ]
  },
  {
   "cell_type": "code",
   "execution_count": null,
   "metadata": {},
   "outputs": [],
   "source": [
    "import os\n",
    "import pandas as pd\n",
    "\n",
    "# 获取文件夹中的所有文件\n",
    "folder_path = r'C:\\Users\\20676\\Desktop\\大伙房场次洪水\\测试'\n",
    "files = os.listdir(folder_path)\n",
    "\n",
    "# 对于每个文件\n",
    "for file in files:\n",
    "    # 检查是否为csv文件\n",
    "    if file.endswith('.csv'):\n",
    "        # 读取CSV文件\n",
    "        df = pd.read_csv(os.path.join(folder_path, file))\n",
    "        # 将时间列转换为Datetime类型，并设置为索引\n",
    "        df['时间'] = pd.to_datetime(df['时间'])\n",
    "        df = df.set_index('时间')\n",
    "        # 重采样时间列为每小时的，对于缺失的时间点，实测入流列的值将为NaN\n",
    "        df = df.resample('H').asfreq()\n",
    "        # 对实测入流列进行线性插值\n",
    "        df['实测入流'] = df['实测入流'].interpolate(method='linear')\n",
    "        # 将实测入流列的值四舍五入到一位小数\n",
    "        df['实测入流'] = df['实测入流'].round(1)\n",
    "        # 将时间列从索引转换回普通列\n",
    "        df = df.reset_index()\n",
    "        # 保存回CSV文件\n",
    "        df.to_csv(os.path.join(folder_path, file), index=False)"
   ]
  },
  {
   "cell_type": "code",
   "execution_count": null,
   "metadata": {},
   "outputs": [],
   "source": [
    "import os\n",
    "import pandas as pd\n",
    "\n",
    "# 指定的文件夹路径\n",
    "folder_path = r'C:\\Users\\20676\\Desktop\\大伙房场次洪水\\测试'\n",
    "\n",
    "# 列出文件夹中的所有文件\n",
    "files = os.listdir(folder_path)\n",
    "\n",
    "# 遍历所有文件\n",
    "for file in files:\n",
    "    # 检查文件是否为csv文件\n",
    "    if file.endswith('.csv'):\n",
    "        # 读取csv文件\n",
    "        df = pd.read_csv(os.path.join(folder_path, file))\n",
    "        # 删除实测入流列为空的行\n",
    "        df = df.dropna(subset=['实测入流'])\n",
    "        # 将清理后的DataFrame保存回csv文件\n",
    "        df.to_csv(os.path.join(folder_path, file), index=False)"
   ]
  },
  {
   "cell_type": "markdown",
   "metadata": {},
   "source": [
    "创建新的时间范围，场次洪水及其前一个月"
   ]
  },
  {
   "cell_type": "code",
   "execution_count": null,
   "metadata": {},
   "outputs": [],
   "source": [
    "import os\n",
    "import pandas as pd\n",
    "import numpy as np\n",
    "from dateutil.relativedelta import relativedelta\n",
    "\n",
    "# 指定的文件夹路径\n",
    "folder_path = r'C:\\Users\\20676\\Desktop\\大伙房场次洪水\\测试'\n",
    "\n",
    "# 列出文件夹中的所有文件\n",
    "files = os.listdir(folder_path)\n",
    "\n",
    "# 遍历所有文件\n",
    "for file in files:\n",
    "    # 检查文件是否为csv文件\n",
    "    if file.endswith('.csv'):\n",
    "        # 读取csv文件\n",
    "        df = pd.read_csv(os.path.join(folder_path, file))\n",
    "        # 将时间列转换为datetime对象\n",
    "        df['时间'] = pd.to_datetime(df['时间'])\n",
    "        # 获取时间列的第一个时间\n",
    "        first_time = df['时间'].iloc[0]\n",
    "        # 创建一个新的时间范围，从一个月前开始，到原始时间结束，间隔为一小时\n",
    "        new_time_range = pd.date_range(start=first_time - relativedelta(months=1), end=first_time, freq='h')\n",
    "        # 创建一个新的DataFrame，使用新的时间范围作为时间列，实测入流列为NaN\n",
    "        new_df = pd.DataFrame({'时间': new_time_range})\n",
    "        new_df['实测入流'] = np.nan\n",
    "        # 将原始DataFrame附加到新的DataFrame上\n",
    "        new_df = pd.concat([new_df, df], ignore_index=True)\n",
    "        # 将新的DataFrame保存回csv文件\n",
    "        new_df.to_csv(os.path.join(folder_path, file), index=False)"
   ]
  },
  {
   "cell_type": "markdown",
   "metadata": {},
   "source": [
    "拿到按年处理的数据里面得到的逐小时雨量表格"
   ]
  },
  {
   "cell_type": "code",
   "execution_count": null,
   "metadata": {},
   "outputs": [],
   "source": [
    "import pandas as pd\n",
    "\n",
    "# 读取逐小时雨量.csv文件\n",
    "df = pd.read_csv(r'C:\\Users\\20676\\Desktop\\大伙房场次洪水\\逐小时雨量.csv')\n",
    "\n",
    "# 修改列名\n",
    "df = df.rename(columns={'时间': 'time', '面雨量': 'prcp(mm/hour)'})\n",
    "\n",
    "# 保存回雨量.csv文件\n",
    "df.to_csv(r'C:\\Users\\20676\\Desktop\\大伙房场次洪水\\逐小时雨量.csv', index=False)"
   ]
  },
  {
   "cell_type": "markdown",
   "metadata": {},
   "source": [
    "将逐小时雨量填入"
   ]
  },
  {
   "cell_type": "code",
   "execution_count": null,
   "metadata": {},
   "outputs": [],
   "source": [
    "import os\n",
    "import pandas as pd\n",
    "\n",
    "# 指定的文件夹路径\n",
    "folder_path = r'C:\\Users\\20676\\Desktop\\大伙房场次洪水\\测试'\n",
    "rainfall_file_path = r'C:\\Users\\20676\\Desktop\\大伙房场次洪水\\逐小时雨量.csv'\n",
    "\n",
    "# 读取逐小时雨量.csv文件\n",
    "rainfall_df = pd.read_csv(rainfall_file_path)\n",
    "rainfall_df['time'] = pd.to_datetime(rainfall_df['time'])\n",
    "\n",
    "# 列出文件夹中的所有文件\n",
    "files = os.listdir(folder_path)\n",
    "\n",
    "# 遍历所有文件\n",
    "for file in files:\n",
    "    # 检查文件是否为csv文件\n",
    "    if file.endswith('.csv'):\n",
    "        # 读取csv文件\n",
    "        df = pd.read_csv(os.path.join(folder_path, file))\n",
    "        df['时间'] = pd.to_datetime(df['时间'])\n",
    "        # 在逐小时雨量.csv文件中找到时间列对应的时间，提取对应的prcp(mm/hour)列所在的行的数据\n",
    "        df = df.merge(rainfall_df, left_on='时间', right_on='time', how='left')\n",
    "        # 删除多余的time列\n",
    "        df = df.drop(columns=['time'])\n",
    "        # 将更新后的DataFrame保存回csv文件\n",
    "        df.to_csv(os.path.join(folder_path, file), index=False)"
   ]
  },
  {
   "cell_type": "markdown",
   "metadata": {},
   "source": [
    "上面填入的时候出问题，多余重复的行，所以删除重复的时间行"
   ]
  },
  {
   "cell_type": "code",
   "execution_count": null,
   "metadata": {},
   "outputs": [],
   "source": [
    "import os\n",
    "import pandas as pd\n",
    "\n",
    "# 指定的文件夹路径\n",
    "folder_path = r'C:\\Users\\20676\\Desktop\\大伙房场次洪水\\测试'\n",
    "\n",
    "# 列出文件夹中的所有文件\n",
    "files = os.listdir(folder_path)\n",
    "\n",
    "# 遍历所有文件\n",
    "for file in files:\n",
    "    # 检查文件是否为csv文件\n",
    "    if file.endswith('.csv'):\n",
    "        # 文件路径\n",
    "        file_path = os.path.join(folder_path, file)\n",
    "        # 读取csv文件\n",
    "        df = pd.read_csv(file_path)\n",
    "        # 删除时间列重复的行\n",
    "        df = df.drop_duplicates(subset='时间', keep='last')\n",
    "        # 将处理后的DataFrame保存回原csv文件\n",
    "        df.to_csv(file_path, index=False)"
   ]
  },
  {
   "cell_type": "markdown",
   "metadata": {},
   "source": [
    "改名"
   ]
  },
  {
   "cell_type": "code",
   "execution_count": null,
   "metadata": {},
   "outputs": [],
   "source": [
    "import os\n",
    "import pandas as pd\n",
    "\n",
    "# 指定的文件夹路径\n",
    "folder_path = r'C:\\Users\\20676\\Desktop\\大伙房场次洪水\\测试'\n",
    "\n",
    "# 列出文件夹中的所有文件\n",
    "files = os.listdir(folder_path)\n",
    "\n",
    "# 遍历所有文件\n",
    "for file in files:\n",
    "    # 检查文件是否为csv文件\n",
    "    if file.endswith('.csv'):\n",
    "        # 读取csv文件\n",
    "        df = pd.read_csv(os.path.join(folder_path, file))\n",
    "        # 将'时间'列改为'time'，将'实测入流'列改为'flow(m^3/s)'\n",
    "        df = df.rename(columns={'时间': 'time', '实测入流': 'flow(m^3/s)'})\n",
    "        # 将修改后的DataFrame保存回csv文件\n",
    "        df.to_csv(os.path.join(folder_path, file), index=False)"
   ]
  },
  {
   "cell_type": "markdown",
   "metadata": {},
   "source": [
    "填充潜在蒸发"
   ]
  },
  {
   "cell_type": "code",
   "execution_count": null,
   "metadata": {},
   "outputs": [],
   "source": [
    "import os\n",
    "import pandas as pd\n",
    "\n",
    "# 指定的文件夹路径\n",
    "folder_path = r'C:\\Users\\20676\\Desktop\\大伙房场次洪水\\测试'\n",
    "\n",
    "# 根据时间列的月份创建新的列\n",
    "def calculate_pet(row):\n",
    "    month = row['time'].month\n",
    "    if month == 5:\n",
    "        return 99.3 / 31 / 24\n",
    "    elif month == 6:\n",
    "        return 102.2 / 30 / 24\n",
    "    elif month == 7:\n",
    "        return 100.3 / 31 / 24\n",
    "    elif month == 8:\n",
    "        return  92.2/ 31 / 24\n",
    "    elif month == 9:\n",
    "        return 72.4 / 30 / 24\n",
    "    else:\n",
    "        return 0\n",
    "\n",
    "# 列出文件夹中的所有文件\n",
    "files = os.listdir(folder_path)\n",
    "\n",
    "# 遍历所有文件\n",
    "for file in files:\n",
    "    # 检查文件是否为csv文件\n",
    "    if file.endswith('.csv'):\n",
    "        # 读取csv文件\n",
    "        df = pd.read_csv(os.path.join(folder_path, file))\n",
    "        # 将时间列转换为日期时间格式\n",
    "        df['time'] = pd.to_datetime(df['time'])\n",
    "        # 计算'pet(mm/hour)'列的值\n",
    "        df['pet(mm/hour)'] = df.apply(calculate_pet, axis=1)\n",
    "        # 将新列的值四舍五入到两位小数\n",
    "        df['pet(mm/hour)'] = df['pet(mm/hour)'].round(3)\n",
    "        # 将修改后的DataFrame保存回csv文件\n",
    "        df.to_csv(os.path.join(folder_path, file), index=False)"
   ]
  },
  {
   "cell_type": "markdown",
   "metadata": {},
   "source": [
    "将场次洪水拼接"
   ]
  },
  {
   "cell_type": "code",
   "execution_count": null,
   "metadata": {},
   "outputs": [],
   "source": [
    "import os\n",
    "import pandas as pd\n",
    "\n",
    "# 指定的文件夹路径\n",
    "folder_path = r'C:\\Users\\20676\\Desktop\\大伙房场次洪水\\测试'\n",
    "\n",
    "# 列出文件夹中的所有文件\n",
    "files = os.listdir(folder_path)\n",
    "\n",
    "# 创建一个空的DataFrame列表\n",
    "dfs = []\n",
    "\n",
    "# 遍历所有文件\n",
    "for file in files:\n",
    "    # 检查文件是否为csv文件\n",
    "    if file.endswith('.csv'):\n",
    "        # 读取csv文件\n",
    "        df = pd.read_csv(os.path.join(folder_path, file))\n",
    "        # 将DataFrame添加到列表中\n",
    "        dfs.append(df)\n",
    "\n",
    "# 使用concat方法将所有的DataFrame拼接起来\n",
    "df_all = pd.concat(dfs)\n",
    "\n",
    "# 将拼接后的DataFrame保存为basin_21100150.csv文件\n",
    "df_all.to_csv(os.path.join(folder_path, 'basin_21100150.csv'), index=False)"
   ]
  },
  {
   "cell_type": "markdown",
   "metadata": {},
   "source": [
    "重设时间"
   ]
  },
  {
   "cell_type": "code",
   "execution_count": null,
   "metadata": {},
   "outputs": [],
   "source": [
    "import pandas as pd\n",
    "import numpy as np\n",
    "\n",
    "# 文件路径\n",
    "file_path = r'C:\\Users\\20676\\Desktop\\大伙房场次洪水\\测试\\basin_21100150.csv'\n",
    "\n",
    "# 读取csv文件\n",
    "df = pd.read_csv(file_path)\n",
    "\n",
    "# 创建一个新的时间序列，从2010-01-01 00:00:00开始，逐小时增加，长度与原数据相同\n",
    "new_time = pd.date_range(start='2010-01-01 00:00:00', periods=len(df), freq='H')\n",
    "\n",
    "# 将新的时间序列设置为数据的时间列\n",
    "df['time'] = new_time\n",
    "\n",
    "# 将修改后的数据保存回csv文件\n",
    "df.to_csv(file_path, index=False)"
   ]
  },
  {
   "cell_type": "code",
   "execution_count": null,
   "metadata": {},
   "outputs": [],
   "source": []
  }
 ],
 "metadata": {
  "kernelspec": {
   "display_name": "hydromodel",
   "language": "python",
   "name": "python3"
  },
  "language_info": {
   "codemirror_mode": {
    "name": "ipython",
    "version": 3
   },
   "file_extension": ".py",
   "mimetype": "text/x-python",
   "name": "python",
   "nbconvert_exporter": "python",
   "pygments_lexer": "ipython3",
   "version": "3.10.14"
  }
 },
 "nbformat": 4,
 "nbformat_minor": 2
}
